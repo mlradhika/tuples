{
 "cells": [
  {
   "cell_type": "code",
   "execution_count": 28,
   "metadata": {
    "scrolled": true
   },
   "outputs": [
    {
     "name": "stdout",
     "output_type": "stream",
     "text": [
      "(11, 22, 33) <class 'tuple'>\n",
      "size of tuple  t1= 3\n",
      "('january', 'feb', 'march', 'april') <class 'tuple'> 4\n",
      "(20, 'january', '2021', 'wednesday', True, 9.75) <class 'tuple'> 6\n"
     ]
    }
   ],
   "source": [
    "#creating and intitializing tuples\n",
    "#ex1-with collection of integers\n",
    "t1=(11,22,33)\n",
    "print(t1,type(t1))\n",
    "\n",
    "#to print the number of elements in tuple:\n",
    "print('size of tuple  t1=',len(t1))\n",
    "\n",
    "#ex2-with collection of strings\n",
    "t2=('january','feb','march','april')\n",
    "print(t2,type(t2),len(t2))\n",
    "      \n",
    "#ex3-with collection of mixed data type\n",
    "t3=(20,'january','2021','wednesday',True,9.75)\n",
    "print(t3,type(t3),len(t3))  \n"
   ]
  },
  {
   "cell_type": "code",
   "execution_count": 29,
   "metadata": {},
   "outputs": [
    {
     "name": "stdout",
     "output_type": "stream",
     "text": [
      "5\n",
      "8\n",
      "n\n",
      "21\n"
     ]
    }
   ],
   "source": [
    "#accessing the content of  a tuple with the index\n",
    "t1=(5,6,[7,8,\"nine\"],(10,11))\n",
    "print(t1[0])\n",
    "print(t1[2][1])\n",
    "print(t1[2][2][2])\n",
    "print(t1[3][0]+t1[3][1])"
   ]
  },
  {
   "cell_type": "code",
   "execution_count": 32,
   "metadata": {},
   "outputs": [
    {
     "name": "stdout",
     "output_type": "stream",
     "text": [
      "1\n",
      "0\n"
     ]
    }
   ],
   "source": [
    "# to count the number of occurences of an element in tuple:\n",
    "t1=(10,50,50,40,30,50,60)\n",
    "print(t1.count(60))\n",
    "print(t1.count(80))"
   ]
  },
  {
   "cell_type": "code",
   "execution_count": 33,
   "metadata": {},
   "outputs": [
    {
     "name": "stdout",
     "output_type": "stream",
     "text": [
      "False\n",
      "True\n"
     ]
    }
   ],
   "source": [
    "#using in and not in in tuple\n",
    "t1=(10,50,50,40,30,50,60)\n",
    "print(80 in t1)\n",
    "print(40 in t1)"
   ]
  },
  {
   "cell_type": "code",
   "execution_count": 37,
   "metadata": {},
   "outputs": [
    {
     "name": "stdout",
     "output_type": "stream",
     "text": [
      "4\n",
      "5\n"
     ]
    }
   ],
   "source": [
    "# index of an element in tuple:\n",
    "t1=(10,50,50,40,30,50,60)\n",
    "print(t1.index(30))\n",
    "print(t1.index(50,3))"
   ]
  },
  {
   "cell_type": "code",
   "execution_count": 27,
   "metadata": {},
   "outputs": [],
   "source": [
    "#sum,"
   ]
  },
  {
   "cell_type": "code",
   "execution_count": 47,
   "metadata": {},
   "outputs": [
    {
     "name": "stdout",
     "output_type": "stream",
     "text": [
      "t1= [10, 20, 30, 40, 50, 50, 60] <class 'list'>\n",
      "t1= (10, 20, 30, 40, 50, 50, 60) <class 'tuple'>\n",
      "t1= [60, 50, 50, 40, 30, 20, 10]\n",
      "t1= (60, 50, 50, 40, 30, 20, 10) <class 'tuple'>\n"
     ]
    }
   ],
   "source": [
    "# to sort elements of a tuple in ascending order:\n",
    "t1=(50,20,50,40,10,30,60)\n",
    "t1=sorted(t1)\n",
    "print('t1=',t1,type(t1))\n",
    "t1=tuple(t1)\n",
    "print('t1=',t1,type(t1))\n",
    "# to sort elements of a tuple in descending order:\n",
    "t1=(50,20,50,40,10,30,60)\n",
    "t1=sorted(t1,reverse=True)\n",
    "print('t1=',t1)\n",
    "t1=tuple(t1)\n",
    "print('t1=',t1,type(t1))\n"
   ]
  },
  {
   "cell_type": "code",
   "execution_count": 52,
   "metadata": {},
   "outputs": [
    {
     "name": "stdout",
     "output_type": "stream",
     "text": [
      "('january', '2021', 'wednesday')\n",
      "(20, 'january')\n",
      "('january', '2021')\n",
      "(20, 'january', '2021', 'wednesday', True, 9.75)\n",
      "('wednesday', '2021')\n",
      "(9.75, 20)\n",
      "(20, 'january', '2021')\n",
      "('wednesday', True, 9.75)\n",
      "('january', True)\n",
      "(True, 'january')\n"
     ]
    }
   ],
   "source": [
    "#slicing\n",
    "t3=(20,'january','2021','wednesday',True,9.75)\n",
    "print(t3[1:4])\n",
    "print(t3[:2])\n",
    "print(t3[-5:-3])\n",
    "print(t3[::])\n",
    "print(t3[3:1:-1])\n",
    "print(t3[::-5])\n",
    "print(t3[:3])\n",
    "print(t3[-3:])\n",
    "print(t3[1::3])\n",
    "print(t3[-2::-3])"
   ]
  },
  {
   "cell_type": "code",
   "execution_count": 11,
   "metadata": {},
   "outputs": [
    {
     "name": "stdout",
     "output_type": "stream",
     "text": [
      "()\n",
      "(1,)\n"
     ]
    }
   ],
   "source": [
    "tt=()#empty tuple\n",
    "print(tt)\n",
    "tt=tt+(1,)\n",
    "print(tt)"
   ]
  },
  {
   "cell_type": "code",
   "execution_count": 13,
   "metadata": {},
   "outputs": [
    {
     "name": "stdout",
     "output_type": "stream",
     "text": [
      "jan <class 'str'>\n",
      "('jan',) <class 'tuple'> 1\n",
      "('j', 'a', 'n') <class 'tuple'> 3\n"
     ]
    }
   ],
   "source": [
    "#tuple with  single element\n",
    "c=(\"jan\")        #not correct\n",
    "print(c,type(c))\n",
    "\n",
    "c=(\"jan\",)      #correct\n",
    "print(c,type(c),len(c))\n",
    "\n",
    "f=tuple(\"jan\") #correct-not with single element\n",
    "print(f,type(f),len(f))"
   ]
  },
  {
   "cell_type": "code",
   "execution_count": 16,
   "metadata": {},
   "outputs": [
    {
     "name": "stdout",
     "output_type": "stream",
     "text": [
      "('jan', 'apr', 'mar')\n",
      "('jan', 'apr', 'mar', 'feb') 4\n",
      "('jan', 'apr', 'mar', 'feb', 'may', 'june', ('july', 'aug')) 7\n"
     ]
    }
   ],
   "source": [
    "#appending the tuple\n",
    "c=('jan','apr','mar')\n",
    "print(c)\n",
    "\n",
    "c=c+('feb',)\n",
    "print(c,len(c))#4\n",
    "\n",
    "#appending tuple with anohter tuple\n",
    "d=('may','june',('july','aug'))\n",
    "c=c+d #4+2\n",
    "print(c,len(c))"
   ]
  },
  {
   "cell_type": "code",
   "execution_count": 18,
   "metadata": {},
   "outputs": [
    {
     "name": "stdout",
     "output_type": "stream",
     "text": [
      "['hi', 'hello', 'hi', 'hello']\n",
      "t1= ['hi', 'hello']\n",
      "t1= ['hi', 'hello', 'hi', 'hello']\n"
     ]
    }
   ],
   "source": [
    "#replication\n",
    "t1=('hi','hello')\n",
    "print(t1*2)\n",
    "print('t1=',t1)#2 elements\n",
    "t1=t1*2\n",
    "print('t1=',t1)#4 elements"
   ]
  },
  {
   "cell_type": "code",
   "execution_count": 58,
   "metadata": {
    "scrolled": true
   },
   "outputs": [
    {
     "name": "stdout",
     "output_type": "stream",
     "text": [
      "[1] [1] [1]\n",
      "2235193243912 [1, 2, 99]\n",
      "2235193243912 [1, 2, 99]\n",
      "2235193014600 [1, 100]\n",
      "True\n",
      "True\n",
      "[1, 2, 99] [99] [1, 100]\n"
     ]
    }
   ],
   "source": [
    "a=[1]\n",
    "b=a\n",
    "c=a.copy()\n",
    "print(a,b,c)\n",
    "a.append(2)\n",
    "b.append(99)\n",
    "c.append(100)\n",
    "print(id(a),a)\n",
    "print(id(b),b)\n",
    "print(id(c),c)\n",
    "print(a is b)#address\n",
    "print(a==b)#content or values as well as they are of same data type\n",
    "b=[99]#new id\n",
    "print(a,b,c)"
   ]
  },
  {
   "cell_type": "code",
   "execution_count": 38,
   "metadata": {},
   "outputs": [
    {
     "name": "stdout",
     "output_type": "stream",
     "text": [
      "False\n",
      "True\n",
      "False\n"
     ]
    }
   ],
   "source": [
    "#is\n",
    "t1=(1,2,3)\n",
    "t2=(1,2,3)\n",
    "t3=(1,2,3,4)\n",
    "print(t1 is t2)\n",
    "print(t1==t2)\n",
    "print(t2 is t3)"
   ]
  },
  {
   "cell_type": "code",
   "execution_count": 35,
   "metadata": {},
   "outputs": [
    {
     "name": "stdout",
     "output_type": "stream",
     "text": [
      "20\n",
      "10\n"
     ]
    }
   ],
   "source": [
    "(x,y)=(10,20)\n",
    "(x,y)=(y,x)\n",
    "print(x)\n",
    "print(y)"
   ]
  },
  {
   "cell_type": "code",
   "execution_count": 21,
   "metadata": {},
   "outputs": [
    {
     "name": "stdout",
     "output_type": "stream",
     "text": [
      "before first swapping\n",
      "t1= (9, 99)\n",
      "t2= (6, 66, 666)\n",
      "after sfirst swapping\n",
      "t1= (6, 66, 666)\n",
      "t2= (9, 99)\n",
      "before second swapping\n",
      "t3 (44, 55, 66)\n",
      "after second swapping\n",
      "t1 (44, 55, 66)\n",
      "t2 (9, 99)\n",
      "t3 (9, 99)\n"
     ]
    }
   ],
   "source": [
    "t1=(9,99) \n",
    "t2=(6,66,666)\n",
    "\n",
    "print('before first swapping')\n",
    "print('t1=',t1)\n",
    "print('t2=',t2)\n",
    "\n",
    "t1,t2=t2,t1#swapping tuples\n",
    "print('after sfirst swapping')\n",
    "print('t1=',t1)\n",
    "print('t2=',t2)\n",
    "\n",
    "t3=(44,55,66)\n",
    "print('before second swapping')\n",
    "\n",
    "print('t3',t3)\n",
    "t1,t3=t3,t2\n",
    "print('after second swapping')\n",
    "print('t1',t1)\n",
    "print('t2',t2)\n",
    "print('t3',t3)"
   ]
  },
  {
   "cell_type": "code",
   "execution_count": 26,
   "metadata": {},
   "outputs": [
    {
     "name": "stdout",
     "output_type": "stream",
     "text": [
      "1 ant 100\n",
      "<class 'int'> <class 'str'> <class 'int'>\n"
     ]
    }
   ],
   "source": [
    "t1=(1,'ant',100)\n",
    "(a,b,c)=t1#t1-3 comp\n",
    "print(a,b,c)\n",
    "print(type(a),type(b),type(c))"
   ]
  },
  {
   "cell_type": "code",
   "execution_count": 23,
   "metadata": {},
   "outputs": [
    {
     "name": "stdout",
     "output_type": "stream",
     "text": [
      "1\n",
      "(1, 2, 3, 4) 99\n"
     ]
    }
   ],
   "source": [
    "t1=(1,2,3,4)\n",
    "(a,b,c,d)=t1\n",
    "print (a)\n",
    "a=99\n",
    "print(t1,a)"
   ]
  },
  {
   "cell_type": "code",
   "execution_count": 12,
   "metadata": {},
   "outputs": [
    {
     "name": "stdout",
     "output_type": "stream",
     "text": [
      "n=3\n",
      "enter a value10\n",
      "enter a value40\n",
      "enter a value2\n",
      "(10, 40, 2)\n",
      "sum= 52\n",
      "average= 17.333333333333332\n",
      "highest= 40\n",
      "smallest= 2\n"
     ]
    }
   ],
   "source": [
    "#create a tuple with n number of integers and find the sum and average of elements \n",
    "#and least and highest element\n",
    "t1=()\n",
    "n=int(input(\"n=\"))\n",
    "for i in range(n):\n",
    "    v=int(input(\"enter a value\"))\n",
    "    t1=t1+(v,)\n",
    "print(t1)\n",
    "print('sum=',sum(t1))\n",
    "print('average=',sum(t1)/len(t1))\n",
    "print('highest=',max(t1))\n",
    "print('smallest=',min(t1))"
   ]
  },
  {
   "cell_type": "code",
   "execution_count": 21,
   "metadata": {},
   "outputs": [
    {
     "name": "stdout",
     "output_type": "stream",
     "text": [
      "n=3\n",
      "enter a value1\n",
      "enter a value11\n",
      "enter a value111\n",
      "t1= (1, 11, 111)\n",
      "t2= (11,)\n",
      "t3= (111,)\n"
     ]
    }
   ],
   "source": [
    "#WAP to create a tuple t1 with 5 integers. and Generate two tuples t2 and t3\n",
    "#that store two digit elementsof t1  and threee digit elements of t1 respectively \n",
    "t1=()\n",
    "n=int(input(\"n=\"))\n",
    "for i in range(n):\n",
    "    v=int(input(\"enter a value\"))\n",
    "    t1=t1+(v,)\n",
    "\n",
    "t2=()\n",
    "t3=()\n",
    "\n",
    "for i in  range(n):\n",
    "    if t1[i]>=10 and t1[i]<=99:\n",
    "        t2=t2+(t1[i],)\n",
    "    if t1[i]>=100 and t1[i]<=999:\n",
    "        t3=t3+(t1[i],)\n",
    "print('t1=',t1)\n",
    "print('t2=',t2)\n",
    "print('t3=',t3)    "
   ]
  },
  {
   "cell_type": "code",
   "execution_count": 13,
   "metadata": {},
   "outputs": [
    {
     "name": "stdout",
     "output_type": "stream",
     "text": [
      "4\n",
      "5\n",
      "6\n",
      "7\n"
     ]
    }
   ],
   "source": [
    "t1=(4,5,6,7)\n",
    "for i in t1:\n",
    "    print(i)"
   ]
  },
  {
   "cell_type": "code",
   "execution_count": null,
   "metadata": {},
   "outputs": [],
   "source": [
    "#nested tuple\n",
    "#wap to create a tuple that stores names and marks of 5 students as ordered pairs\n",
    "#accept a name and print marks if present otherwise print an appropriate message\n",
    "#find the average mark\n",
    "t1=()\n",
    "for i in range(5):\n",
    "    name=input(\"name:\")\n",
    "    marks=int(input(\"marks:\"))\n",
    "    t1=t1+((name,marks),)\n",
    "print(t1)\n",
    "\n",
    "nam=input('enter a name')\n",
    "found=False\n",
    "sum=0\n",
    "\n",
    "for i in range(5):\n",
    "            sum=sum+t1[i][1] #marks\n",
    "            if t1[i][0]==nam:#\n",
    "                  print('found and marks are:',t1[i][1])\n",
    "                  found=True\n",
    "if found==False:         \n",
    "          print('no matching record')\n",
    "print('average=',sum/len(t1))          "
   ]
  },
  {
   "cell_type": "code",
   "execution_count": null,
   "metadata": {},
   "outputs": [],
   "source": [
    "#nested tuple\n",
    "#wap to create a tuple with n number of ordered pairs to store x and y coordinates. \n",
    "#and count the number of ordered pairs with equal value o x and y.\n"
   ]
  },
  {
   "cell_type": "code",
   "execution_count": 20,
   "metadata": {},
   "outputs": [
    {
     "name": "stdout",
     "output_type": "stream",
     "text": [
      "n:3\n",
      "x:1\n",
      "y:1\n",
      "x:2\n",
      "y:2\n",
      "x:3\n",
      "y:33\n",
      "((1.0, 1.0), (2.0, 2.0), (3.0, 33.0))\n",
      "x= 1.0 y= 1.0\n",
      "x= 2.0 y= 2.0\n",
      "x= 3.0 y= 33.0\n"
     ]
    }
   ],
   "source": [
    "#create a tuple with n no of  ordered pairs ((1,2),(3,4)...)\n",
    "t1=()\n",
    "n=int(input(\"n:\"))#3\n",
    "for i in range(n):\n",
    "    x=float(input(\"x:\"))\n",
    "    y=float(input(\"y:\"))\n",
    "    t1=t1+((x,y),)\n",
    "print(t1)\n",
    "for i in range(len(t1)):\n",
    "    print ('x=',t1[i][0],end=' ')\n",
    "    print ('y=',t1[i][1])\n",
    "    \n"
   ]
  },
  {
   "cell_type": "code",
   "execution_count": 35,
   "metadata": {},
   "outputs": [
    {
     "name": "stdout",
     "output_type": "stream",
     "text": [
      "n=3\n",
      "x=1\n",
      "y=2\n",
      "x=2\n",
      "y=3\n",
      "x=3\n",
      "y=4\n",
      "((1.0, 2.0), (2.0, 3.0), (3.0, 4.0))\n",
      "no of ordered pairs with equal values of x and y= 0\n"
     ]
    }
   ],
   "source": [
    "#prog i\n",
    "#nested tuple\n",
    "#wap to create a tuple with n number of ordered pairs to store x and y coordinates. \n",
    "#and count the number of ordered pairs with equal values of x and y.\n",
    "#t=((1,2),(4,4),(5,6),(8,8),(9,4))\n",
    "t=()\n",
    "n=int(input('n='))#3\n",
    "for i in range(n):#0 TO 2 0,1,2\n",
    "    x=float(input('x='))\n",
    "    y=float(input('y='))\n",
    "    t=t+((x,y),)\n",
    "    \n",
    "print(t)\n",
    "\n",
    "k=0\n",
    "for i in range(n):\n",
    "    if t[i][0]==t[i][1]:\n",
    "        k=k+1\n",
    "        print(t[i])\n",
    "print('no of ordered pairs with equal values of x and y=',k)"
   ]
  },
  {
   "cell_type": "markdown",
   "metadata": {},
   "source": [
    "#given a nested tuple ((1,2),(3,4,5),(6,7))\n",
    "#find the mean of elements of each tuple as a tuple (1.5,4.0,6.5)"
   ]
  },
  {
   "cell_type": "code",
   "execution_count": null,
   "metadata": {},
   "outputs": [],
   "source": [
    "#prog iii\n",
    "#write a program to create tuple with strings and \n",
    "#print the string(s) with longest string and shortest string along with the lengths\n",
    "#('aa','bbbbb','cc','ddddd','eee')\n",
    "#5,2\n",
    "#bbbbb  dddddd\n",
    "#aa   cc\n",
    "1,11,21,22,29"
   ]
  },
  {
   "cell_type": "code",
   "execution_count": 17,
   "metadata": {},
   "outputs": [
    {
     "name": "stdout",
     "output_type": "stream",
     "text": [
      "given tuple= ((1, 2), (3, 4, 5), (6, 7))\n",
      "averages of elements of subtuples of t= (1.5, 4.0, 6.5)\n"
     ]
    }
   ],
   "source": [
    "#prog--method1\n",
    "#given a nested tuple ((1,2),(3,4,5),(6,7))\n",
    "#find the mean of elements of each tuple as a tuple (1.5,4.0,6.5)\n",
    "\n",
    "t=((1,2),(3,4,5),(6,7))\n",
    "tavg=()\n",
    "for i in range(len(t)):#0,1,2\n",
    "    len1=len(t[i]) #2 3  2\n",
    "    sum1=0\n",
    "    for j in range(len1):#0,1\n",
    "        sum1=sum1+t[i][j]#6+7=13\n",
    "    avg1=sum1/len1 #3/2=1.5 12/3=4.0  13/2=6.5\n",
    "    tavg=tavg+(avg1,)#(1.5,4.0,6.5)\n",
    "print('given tuple=',t)\n",
    "print('averages of elements of subtuples of t=',tavg)\n"
   ]
  },
  {
   "cell_type": "code",
   "execution_count": null,
   "metadata": {},
   "outputs": [],
   "source": [
    "#prog-ii-ANOTHER METHOD\n",
    "#given a nested tuple ((1,2),(3,4,5),(6,7))\n",
    "#find the mean of elements of each tuple as a tuple (1.5,4.0,6.5)\n",
    "t=((1,2),(3,4,5),(6,7),8)\n",
    "tavg=()\n",
    "for i in t:\n",
    "    avg1=sum(i)/len(i)\n",
    "    tavg=tavg+(avg1,)#(1.5,4.0,6.5)\n",
    "print('given tuple=',t)\n",
    "print('averages of elements of subtuples of t=',tavg)"
   ]
  },
  {
   "cell_type": "code",
   "execution_count": null,
   "metadata": {},
   "outputs": [],
   "source": [
    "#prog iii\n",
    "#write a program to create tuple with strings and \n",
    "#print the string(s) with longest string and shortest string along with the lengths\n",
    "st=()\n",
    "n=int(input(\"enter the no of strings:\"))\n",
    "for i in range(n):\n",
    "    s=input(\"enter a string:\")\n",
    "    st=st+(s,)\n",
    "print(st)\n",
    "#st=('aaa','bb','ccccc','dddd','eeeee','ff')\n",
    "big=len(st[0])\n",
    "small=len(st[0])\n",
    "for i in st:\n",
    "    if len(i)>big:\n",
    "        big=len(i)\n",
    "    if len(i)<small:\n",
    "        small=len(i)\n",
    "print('length of longest string:',big)\n",
    "print('length of smallest string:',small)\n",
    "print('longest string(s):',end=' ')\n",
    "for i in st:\n",
    "    if len(i)==big:\n",
    "        print(i,end=',')\n",
    "        \n",
    "print('\\b')\n",
    "print('shortest string(s):',end=' ')\n",
    "for i in st:\n",
    "    if len(i)==small:\n",
    "        print(i,end=' ,')\n",
    "print('\\b')"
   ]
  },
  {
   "cell_type": "code",
   "execution_count": null,
   "metadata": {},
   "outputs": [],
   "source": []
  },
  {
   "cell_type": "code",
   "execution_count": null,
   "metadata": {},
   "outputs": [],
   "source": []
  },
  {
   "cell_type": "code",
   "execution_count": null,
   "metadata": {},
   "outputs": [],
   "source": []
  },
  {
   "cell_type": "code",
   "execution_count": 11,
   "metadata": {},
   "outputs": [
    {
     "name": "stdout",
     "output_type": "stream",
     "text": [
      "given tuple= ((1, 2), (3, 4, 5), (6, 7))\n",
      "averages of elements of subtuples of t= (1.5, 4.0, 6.5)\n"
     ]
    }
   ],
   "source": []
  },
  {
   "cell_type": "code",
   "execution_count": null,
   "metadata": {},
   "outputs": [],
   "source": []
  },
  {
   "cell_type": "code",
   "execution_count": null,
   "metadata": {},
   "outputs": [],
   "source": []
  },
  {
   "cell_type": "code",
   "execution_count": 67,
   "metadata": {},
   "outputs": [
    {
     "name": "stdout",
     "output_type": "stream",
     "text": [
      "(3, 4, 5) <class 'tuple'>\n"
     ]
    }
   ],
   "source": [
    "t=3,4,5\n",
    "print(t,type(t))"
   ]
  },
  {
   "cell_type": "code",
   "execution_count": 75,
   "metadata": {},
   "outputs": [
    {
     "name": "stdout",
     "output_type": "stream",
     "text": [
      "t= (3, 4, 5)\n",
      "tt= ((3, 4, 5),)\n"
     ]
    }
   ],
   "source": [
    "t=(3,4,5)\n",
    "tt=tuple((t,))#tt=t\n",
    "print('t=',t)\n",
    "print('tt=',tt)\n",
    "#tt=((3,4,5),)"
   ]
  },
  {
   "cell_type": "code",
   "execution_count": 86,
   "metadata": {},
   "outputs": [
    {
     "name": "stdout",
     "output_type": "stream",
     "text": [
      "(1, 2, 3) <class 'tuple'>\n"
     ]
    }
   ],
   "source": [
    "t=1,2\n",
    "tt=(3,)\n",
    "t=t+tt\n",
    "print(t,type(t))\n"
   ]
  },
  {
   "cell_type": "code",
   "execution_count": 78,
   "metadata": {},
   "outputs": [
    {
     "name": "stdout",
     "output_type": "stream",
     "text": [
      "(3, 4, 5) <class 'tuple'>\n"
     ]
    }
   ],
   "source": [
    "t=(3,4,5)\n",
    "tt=tuple(t)\n",
    "print(tt,type(tt))"
   ]
  },
  {
   "cell_type": "code",
   "execution_count": 94,
   "metadata": {},
   "outputs": [
    {
     "name": "stdout",
     "output_type": "stream",
     "text": [
      "t= (3, 4, 5)\n",
      "type of t= <class 'tuple'>\n",
      "size of t= 3\n"
     ]
    }
   ],
   "source": [
    "t=((3,4,5,))\n",
    "print('t=',t)\n",
    "print('type of t=',type(t))\n",
    "print('size of t=',len(t))      "
   ]
  },
  {
   "cell_type": "code",
   "execution_count": 96,
   "metadata": {},
   "outputs": [
    {
     "name": "stdout",
     "output_type": "stream",
     "text": [
      "element - 1 : (1, 2, 3) <class 'tuple'>\n",
      "element - 2 : 4 <class 'int'>\n",
      "element - 3 : 5.0 <class 'float'>\n",
      "element - 4 : length <class 'str'>\n",
      "element - 5 : ('aa', 22) <class 'tuple'>\n",
      "element - 6 : (1, 2.5, 'abc') <class 'tuple'>\n"
     ]
    }
   ],
   "source": [
    "# to print each element along with  type\n",
    "t=((1,2,3),4,5.0,\"length\",(\"aa\",22),(1,2.5,\"abc\"))\n",
    "l=len(t)\n",
    "for i in range(l):\n",
    "    print('element -',i+1,':',t[i],type(t[i]))\n",
    "\n"
   ]
  },
  {
   "cell_type": "code",
   "execution_count": 98,
   "metadata": {},
   "outputs": [
    {
     "name": "stdout",
     "output_type": "stream",
     "text": [
      "n=5\n",
      "t= (1, 4, 9, 16, 25)\n"
     ]
    }
   ],
   "source": [
    "#create a tuple containing squares of intgers 1 to 5#t=(1,4,9,16,25)\n",
    "t=()\n",
    "n=int(input('n='))\n",
    "for i in range(1,n+1):#1 to n\n",
    "    t+=(i**2,)\n",
    "print('t=',t)"
   ]
  },
  {
   "cell_type": "code",
   "execution_count": 102,
   "metadata": {},
   "outputs": [
    {
     "name": "stdout",
     "output_type": "stream",
     "text": [
      "('a', 'bb', 'ccc', 'dddd', 'eeeee', 'ffffff')\n"
     ]
    }
   ],
   "source": [
    "#create a tuple ('a','bb','ccc','dddd','eeeee','ffffff')\n",
    "t=()\n",
    "#c=97#a\n",
    "for i in range(1,7):#1 to 6\n",
    "    t=t+(chr(96+i)*i,)\n",
    "    #c=c+1#98,99,100,101,102\n",
    "print(t)  \n",
    "\n"
   ]
  },
  {
   "cell_type": "code",
   "execution_count": 29,
   "metadata": {},
   "outputs": [
    {
     "name": "stdout",
     "output_type": "stream",
     "text": [
      "t= (1, 2, 3) 3\n",
      "s= (1, 2, 3) <class 'str'> 9\n",
      "1\n",
      "2\n",
      "3\n",
      "(\n",
      "1\n",
      ",\n",
      " \n",
      "2\n",
      ",\n",
      " \n",
      "3\n",
      ")\n"
     ]
    }
   ],
   "source": [
    "#tuple to string\n",
    "t=(1,2,3)\n",
    "s=str(t)\n",
    "print('t=',t,len(t))\n",
    "print('s=',s,type(s),len(s))\n",
    "for i in t:\n",
    "    print(i)\n",
    "\n",
    "for i in s:\n",
    "    print(i)"
   ]
  },
  {
   "cell_type": "code",
   "execution_count": 28,
   "metadata": {},
   "outputs": [
    {
     "name": "stdout",
     "output_type": "stream",
     "text": [
      "t= (1, 2, 3) 3\n",
      "s= (1, 2, 3) <class 'str'> 9\n",
      "1\n",
      "2\n",
      "3\n",
      "(\n",
      "1\n",
      ",\n",
      " \n",
      "2\n",
      ",\n",
      " \n",
      "3\n",
      ")\n"
     ]
    }
   ],
   "source": [
    "#tuple to string\n",
    "t=(1,2,3)\n",
    "s=str(t)\n",
    "print('t=',t,len(t))\n",
    "print('s=',s,type(s),len(s))\n",
    "for i in t:\n",
    "    print(i)\n",
    "\n",
    "for i in s:\n",
    "    print(i)"
   ]
  },
  {
   "cell_type": "code",
   "execution_count": 33,
   "metadata": {},
   "outputs": [
    {
     "ename": "TypeError",
     "evalue": "'float' object is not iterable",
     "output_type": "error",
     "traceback": [
      "\u001b[1;31m---------------------------------------------------------------------------\u001b[0m",
      "\u001b[1;31mTypeError\u001b[0m                                 Traceback (most recent call last)",
      "\u001b[1;32m<ipython-input-33-1a56436cb4db>\u001b[0m in \u001b[0;36m<module>\u001b[1;34m\u001b[0m\n\u001b[0;32m      1\u001b[0m \u001b[1;31m#STR to tuple\u001b[0m\u001b[1;33m\u001b[0m\u001b[1;33m\u001b[0m\u001b[1;33m\u001b[0m\u001b[0m\n\u001b[0;32m      2\u001b[0m \u001b[0mn\u001b[0m\u001b[1;33m=\u001b[0m\u001b[1;36m123.45\u001b[0m\u001b[1;33m\u001b[0m\u001b[1;33m\u001b[0m\u001b[0m\n\u001b[1;32m----> 3\u001b[1;33m \u001b[0mt\u001b[0m\u001b[1;33m=\u001b[0m\u001b[0mtuple\u001b[0m\u001b[1;33m(\u001b[0m\u001b[0mn\u001b[0m\u001b[1;33m)\u001b[0m\u001b[1;33m\u001b[0m\u001b[1;33m\u001b[0m\u001b[0m\n\u001b[0m\u001b[0;32m      4\u001b[0m \u001b[0mprint\u001b[0m\u001b[1;33m(\u001b[0m\u001b[1;34m't='\u001b[0m\u001b[1;33m,\u001b[0m\u001b[0mt\u001b[0m\u001b[1;33m)\u001b[0m\u001b[1;33m\u001b[0m\u001b[1;33m\u001b[0m\u001b[0m\n\u001b[0;32m      5\u001b[0m \u001b[0mprint\u001b[0m\u001b[1;33m(\u001b[0m\u001b[1;34m'n='\u001b[0m\u001b[1;33m,\u001b[0m\u001b[0mn\u001b[0m\u001b[1;33m)\u001b[0m\u001b[1;33m\u001b[0m\u001b[1;33m\u001b[0m\u001b[0m\n",
      "\u001b[1;31mTypeError\u001b[0m: 'float' object is not iterable"
     ]
    }
   ],
   "source": [
    "#STR to tuple\n",
    "n=\"123.45\"\n",
    "t=tuple(n)\n",
    "print('t=',t)\n",
    "print('n=',n)"
   ]
  },
  {
   "cell_type": "code",
   "execution_count": null,
   "metadata": {},
   "outputs": [],
   "source": []
  },
  {
   "cell_type": "code",
   "execution_count": null,
   "metadata": {},
   "outputs": [],
   "source": []
  }
 ],
 "metadata": {
  "kernelspec": {
   "display_name": "Python 3",
   "language": "python",
   "name": "python3"
  },
  "language_info": {
   "codemirror_mode": {
    "name": "ipython",
    "version": 3
   },
   "file_extension": ".py",
   "mimetype": "text/x-python",
   "name": "python",
   "nbconvert_exporter": "python",
   "pygments_lexer": "ipython3",
   "version": "3.7.6"
  }
 },
 "nbformat": 4,
 "nbformat_minor": 4
}
